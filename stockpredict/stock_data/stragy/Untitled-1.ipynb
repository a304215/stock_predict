{
 "cells": [
  {
   "attachments": {},
   "cell_type": "markdown",
   "metadata": {},
   "source": [
    "<h1>獲取股票代碼</h1>"
   ]
  },
  {
   "cell_type": "code",
   "execution_count": 18,
   "metadata": {},
   "outputs": [],
   "source": [
    "import pandas as pd\n",
    "data = pd.read_csv('../stock_id_csv/上市公司.csv')"
   ]
  },
  {
   "cell_type": "code",
   "execution_count": 19,
   "metadata": {},
   "outputs": [],
   "source": [
    "stock_number = data['公司代號'].tolist()"
   ]
  },
  {
   "cell_type": "code",
   "execution_count": 20,
   "metadata": {},
   "outputs": [],
   "source": [
    "test_stock_number = stock_number[0]"
   ]
  },
  {
   "attachments": {},
   "cell_type": "markdown",
   "metadata": {},
   "source": [
    "<h1>連接mysql獲取資料</h1>"
   ]
  },
  {
   "cell_type": "code",
   "execution_count": 24,
   "metadata": {},
   "outputs": [
    {
     "name": "stdout",
     "output_type": "stream",
     "text": [
      "errpor2025\n"
     ]
    }
   ],
   "source": [
    "import pymysql\n",
    "buy_list = []\n",
    "for test_stock_number in stock_number:\n",
    "    try:\n",
    "        host = 'localhost'\n",
    "        user = 'root'\n",
    "        password = '123456'\n",
    "        database = 'stock'\n",
    "        db = pymysql.connect(host = host,user = user , password = password,database = database)\n",
    "        cursor = db.cursor()\n",
    "        sql = 'select * from '+str(test_stock_number)+'_TW'\n",
    "        cursor.execute(sql)\n",
    "        results = cursor.fetchall()\n",
    "        time_list = []\n",
    "        close_list = []\n",
    "        for i in results:\n",
    "            time_list.append(i[0])\n",
    "            close_list.append(i[-1])\n",
    "        data = pd.DataFrame({'Date':time_list,'Close':close_list})\n",
    "        data['5MA'] = data['Close'].rolling(5).mean()\n",
    "        data['10MA'] = data['Close'].rolling(10).mean()\n",
    "        data['20MA'] = data['Close'].rolling(20).mean()\n",
    "        data['60MA'] = data['Close'].rolling(60).mean()\n",
    "        data['120MA'] = data['Close'].rolling(120).mean()\n",
    "        data['240MA'] = data['Close'].rolling(240).mean()\n",
    "        yesterday_data = data.iloc[-2]\n",
    "        today_data = data.iloc[-1]\n",
    "        yesterday_5ma = yesterday_data[2]\n",
    "        yesterday_10ma = yesterday_data[3]\n",
    "        yesterday_20ma = yesterday_data[4]\n",
    "        yesterday_60ma = yesterday_data[5]\n",
    "        yesterday_120ma = yesterday_data[6]\n",
    "        yesterday_240ma = yesterday_data[7]\n",
    "        today_5ma = today_data[2]\n",
    "        today_10ma = today_data[3]\n",
    "        today_20ma = today_data[4]\n",
    "        today_60ma = today_data[5]\n",
    "        today_120ma = today_data[6]\n",
    "        today_240ma = today_data[7]\n",
    "        if(yesterday_5ma<yesterday_10ma or yesterday_5ma < yesterday_20ma or yesterday_5ma<yesterday_60ma or yesterday_5ma<yesterday_120ma or yesterday_5ma<yesterday_240ma):\n",
    "            if(today_5ma > today_10ma and today_5ma > today_20ma and today_5ma > today_60ma and today_5ma > today_120ma and today_5ma > today_240ma):\n",
    "                buy_list.append(test_stock_number)\n",
    "                # print(test_stock_number)\n",
    "    except:\n",
    "        print('errpor' + str(test_stock_number))"
   ]
  },
  {
   "cell_type": "code",
   "execution_count": 25,
   "metadata": {},
   "outputs": [
    {
     "data": {
      "text/plain": [
       "[1416,\n",
       " 1463,\n",
       " 1521,\n",
       " 2364,\n",
       " 2388,\n",
       " 2424,\n",
       " 2530,\n",
       " 2630,\n",
       " 2753,\n",
       " 3481,\n",
       " 3705,\n",
       " 4770,\n",
       " 5306,\n",
       " 9938]"
      ]
     },
     "execution_count": 25,
     "metadata": {},
     "output_type": "execute_result"
    }
   ],
   "source": [
    "buy_list"
   ]
  },
  {
   "cell_type": "code",
   "execution_count": 32,
   "metadata": {},
   "outputs": [],
   "source": [
    "#table_name = goldcross_120_240\n",
    "from datetime import date\n",
    "host = 'localhost'\n",
    "user = 'root'\n",
    "password = '123456'\n",
    "database = 'stock'\n",
    "db = pymysql.connect(host = host,user = user , password = password,database = database)\n",
    "cursor = db.cursor()\n",
    "buy = ''\n",
    "Date = str(date.today())\n",
    "for i in buy_list:\n",
    "    buy += str(i)+' '\n",
    "sql = \"INSERT INTO goldcross_120_240(Date, buylist) VALUES ('%s', '%s')\" % (Date,buy)\n",
    "cursor.execute(sql)\n",
    "db.commit()\n",
    "db.close()"
   ]
  },
  {
   "cell_type": "code",
   "execution_count": 30,
   "metadata": {},
   "outputs": [
    {
     "data": {
      "text/plain": [
       "'2023-02-10'"
      ]
     },
     "execution_count": 30,
     "metadata": {},
     "output_type": "execute_result"
    }
   ],
   "source": [
    "str(Date)"
   ]
  },
  {
   "cell_type": "code",
   "execution_count": null,
   "metadata": {},
   "outputs": [],
   "source": []
  }
 ],
 "metadata": {
  "kernelspec": {
   "display_name": "andy_torch",
   "language": "python",
   "name": "python3"
  },
  "language_info": {
   "codemirror_mode": {
    "name": "ipython",
    "version": 3
   },
   "file_extension": ".py",
   "mimetype": "text/x-python",
   "name": "python",
   "nbconvert_exporter": "python",
   "pygments_lexer": "ipython3",
   "version": "3.7.15"
  },
  "orig_nbformat": 4,
  "vscode": {
   "interpreter": {
    "hash": "d04b709b42865a77f1fd6f1466eb73b7053329fe282b03f9c05694fb4faf4cb0"
   }
  }
 },
 "nbformat": 4,
 "nbformat_minor": 2
}
